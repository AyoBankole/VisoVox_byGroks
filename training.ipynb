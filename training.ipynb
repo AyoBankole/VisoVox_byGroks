{
 "cells": [
  {
   "cell_type": "code",
   "execution_count": null,
   "metadata": {},
   "outputs": [],
   "source": [
    "import openai\n",
    "import torch\n",
    "from PIL import Image\n",
    "import os\n",
    "import random\n",
    "import cv2\n",
    "\n"
   ]
  },
  {
   "cell_type": "code",
   "execution_count": null,
   "metadata": {},
   "outputs": [],
   "source": [
    "# Initialize OpenAI API \n",
    "def get_env():\n",
    "    api_key = os.getenv('OPENAI_API_KEY')\n",
    "    if not api_key:\n",
    "        raise ValueError(\"API key not found. Please set the OPENAI_API_KEY environment variable.\")\n",
    "    return api_key\n",
    "\n",
    "def get_caption(image_path):\n",
    "    image = Image.open(image_path)\n",
    "    # Convert image to bytes\n",
    "    image_bytes = image.tobytes()\n",
    "    \n",
    "    # Send image to OpenAI for captioning\n",
    "    response = openai.Image.create(\n",
    "        file=image_bytes,\n",
    "        model=\"clip\"\n",
    "    )\n",
    "    \n",
    "    caption = response['choices'][0]['text']\n",
    "    return caption\n",
    "\n",
    "def text_to_speech(text, output_file):\n",
    "    # OpenAI TTS request\n",
    "    response = openai.Audio.create(\n",
    "        text=text,\n",
    "        voice=\"en_us\"\n",
    "    )\n",
    "    audio_data = response['audio']\n",
    "    with open(output_file, 'wb') as f:\n",
    "        f.write(audio_data)\n",
    "\n"
   ]
  },
  {
   "cell_type": "code",
   "execution_count": null,
   "metadata": {},
   "outputs": [],
   "source": [
    "def main():\n",
    "    # Specify the folder path containing images\n",
    "    folder_path = 'C:\\Users\\User\\OneDrive\\Desktop\\DATA SCIENCE\\GEN_ai\\image_captioning_Project\\VisoVox_byGroks\\images'\n",
    "    image_files = [os.path.join(folder_path, f) for f in os.listdir(folder_path) if f.endswith(('png', 'jpg', 'jpeg'))]\n",
    "    \n",
    "    while True:\n",
    "        # Select a random image from the folder\n",
    "        random_image_path = random.choice(image_files)\n",
    "        \n",
    "        # Get caption for the image\n",
    "        caption = get_caption(random_image_path)\n",
    "        print(\"Caption:\", caption)\n",
    "        \n",
    "        # Convert caption to speech\n",
    "        audio_file = 'caption.mp3'\n",
    "        text_to_speech(caption, audio_file)\n",
    "        \n",
    "        # Load and display the image\n",
    "        frame = cv2.imread(random_image_path)\n",
    "        cv2.imshow('Random Image', frame)\n",
    "        cv2.waitKey(1000)  # Adjust the delay as needed\n",
    "        os.system(f'start {audio_file}')  # For Windows\n",
    "\n",
    "        \n",
    "        if cv2.waitKey(1) & 0xFF == ord('q'):\n",
    "            break\n",
    "\n",
    "    cv2.destroyAllWindows()\n",
    "\n",
    "if __name__ == \"_main_\":\n",
    "    main()"
   ]
  },
  {
   "cell_type": "code",
   "execution_count": null,
   "metadata": {},
   "outputs": [],
   "source": []
  }
 ],
 "metadata": {
  "kernelspec": {
   "display_name": "Python 3",
   "language": "python",
   "name": "python3"
  },
  "language_info": {
   "name": "python",
   "version": "3.10.0"
  }
 },
 "nbformat": 4,
 "nbformat_minor": 2
}
